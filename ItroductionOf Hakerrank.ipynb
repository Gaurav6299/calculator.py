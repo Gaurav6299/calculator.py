{
 "cells": [
  {
   "cell_type": "code",
   "execution_count": 1,
   "metadata": {},
   "outputs": [
    {
     "name": "stdout",
     "output_type": "stream",
     "text": [
      "Hello,World!\n"
     ]
    }
   ],
   "source": [
    "## Introduction\n",
    "\n",
    "1.''' Here is a sample line of code that can be executed in Python:\n",
    "\n",
    "print(\"Hello, World!\")\n",
    "You can just as easily store a string as a variable and then print it to stdout:\n",
    "\n",
    "my_string = \"Hello, World!\"\n",
    "print(my_string)\n",
    "The above code will print Hello, World! on your screen. Try it yourself in the editor below!\n",
    "\n",
    "Input Format\n",
    "\n",
    "You do not need to read any input in this challenge.\n",
    "\n",
    "Output Format\n",
    "\n",
    "Print Hello, World! to stdout.\n",
    "\n",
    "Sample Output 0\n",
    "\n",
    "Hello, World!'''\n",
    "\n",
    "print(\"Hello,World!\")"
   ]
  },
  {
   "cell_type": "markdown",
   "metadata": {},
   "source": [
    "## Python If-Else"
   ]
  },
  {
   "cell_type": "code",
   "execution_count": 6,
   "metadata": {},
   "outputs": [
    {
     "name": "stdout",
     "output_type": "stream",
     "text": [
      "22\n",
      "Not Weird\n"
     ]
    }
   ],
   "source": [
    "''' Given an integer,n , perform the following conditional actions:\n",
    "\n",
    "If n is odd, print Weird\n",
    "If n is even and in the inclusive range of 2 to 5, print Not Weird\n",
    "If n is even and in the inclusive range of 6 to 20, print Weird\n",
    "If n is even and greater than 20 , print Not Weird\n",
    "Input Format\n",
    "\n",
    "A single line containing a positive integer, .\n",
    "\n",
    "Constraints\n",
    "\n",
    "Output Format\n",
    "\n",
    "Print Weird if the number is weird; otherwise, print Not Weird.\n",
    "\n",
    "Sample Input 0\n",
    "\n",
    "3\n",
    "Sample Output 0\n",
    "\n",
    "Weird  '''\n",
    "\n",
    "n=int(input())\n",
    "if(n%2!=0):\n",
    "    print(\"Weird\")\n",
    "if(n%2==0) and (n>=2 and n<=5):\n",
    "    print(\"Not Weird\")\n",
    "if(n%2==0) and (n>=6 and n<=20):\n",
    "    print(\"Weird\")\n",
    "if(n%2==0) and (n>20):\n",
    "    print(\"Not Weird\")"
   ]
  },
  {
   "cell_type": "markdown",
   "metadata": {},
   "source": [
    "## Arithematic Operator"
   ]
  },
  {
   "cell_type": "code",
   "execution_count": 9,
   "metadata": {},
   "outputs": [
    {
     "name": "stdout",
     "output_type": "stream",
     "text": [
      "First Number3\n",
      "Second Number2\n",
      "5\n",
      "1\n",
      "6\n"
     ]
    }
   ],
   "source": [
    "''' Read two integers from STDIN and print three lines where:\n",
    "\n",
    "1.The first line contains the sum of the two numbers.\n",
    "2.The second line contains the difference of the two numbers (first - second).\n",
    "3.The third line contains the product of the two numbers.\n",
    "4.Input Format\n",
    "\n",
    "The first line contains the first integer,a. The second line contains the second integer,b .\n",
    "\n",
    "Constraints\n",
    "\n",
    "\n",
    "Output Format\n",
    "\n",
    "Print the three lines as explained above.\n",
    "\n",
    "Sample Input 0\n",
    "\n",
    "3\n",
    "2\n",
    "Sample Output 0\n",
    "\n",
    "5\n",
    "1\n",
    "6  '''\n",
    "\n",
    "a=int(input(\"First Number\"))\n",
    "b=int(input(\"Second Number\"))\n",
    "print(a+b)\n",
    "print(a-b)\n",
    "print(a*b)"
   ]
  },
  {
   "cell_type": "markdown",
   "metadata": {},
   "source": [
    "## python:Division?"
   ]
  },
  {
   "cell_type": "code",
   "execution_count": 10,
   "metadata": {},
   "outputs": [
    {
     "name": "stdout",
     "output_type": "stream",
     "text": [
      "First Number4\n",
      "second Number3\n",
      "1\n",
      "1.3333333333333333\n"
     ]
    }
   ],
   "source": [
    "'''Read two integers and print two lines. The first line should contain integer division, a //b . The second line should contain float division, a /b .\n",
    "\n",
    "You don't need to perform any rounding or formatting operations.\n",
    "\n",
    "Input Format\n",
    "\n",
    "The first line contains the first integer,a . The second line contains the second integer,b .\n",
    "\n",
    "Output Format\n",
    "\n",
    "Print the two lines as described above.\n",
    "\n",
    "Sample Input 0\n",
    "\n",
    "4\n",
    "3\n",
    "Sample Output 0\n",
    "\n",
    "1\n",
    "1.33333333333 '''\n",
    "\n",
    "a=int(input(\"First Number\"))\n",
    "b=int(input(\"second Number\"))\n",
    "print(a//b)\n",
    "print(a/b)"
   ]
  },
  {
   "cell_type": "markdown",
   "metadata": {},
   "source": [
    "## Loops"
   ]
  },
  {
   "cell_type": "code",
   "execution_count": 14,
   "metadata": {},
   "outputs": [
    {
     "name": "stdout",
     "output_type": "stream",
     "text": [
      "5\n",
      "0\n",
      "1\n",
      "4\n",
      "9\n",
      "16\n"
     ]
    }
   ],
   "source": [
    "'''Read an integer N . For all non-negative integers i<N , print i**2 . See the sample for details.\n",
    "\n",
    "Input Format\n",
    "\n",
    "The first and only line contains the integer, N .\n",
    "\n",
    "Constraints\n",
    "\n",
    "\n",
    "Output Format\n",
    "\n",
    "Print N lines, one corresponding to each i .\n",
    "\n",
    "Sample Input 0\n",
    "\n",
    "5\n",
    "Sample Output 0\n",
    "\n",
    "0\n",
    "1\n",
    "4\n",
    "9\n",
    "16 '''\n",
    "\n",
    "\n",
    "N=int(input())\n",
    "for i in range(5):\n",
    "    print(i**2)\n"
   ]
  },
  {
   "cell_type": "markdown",
   "metadata": {},
   "source": [
    "## Write a Function"
   ]
  },
  {
   "cell_type": "code",
   "execution_count": 16,
   "metadata": {},
   "outputs": [
    {
     "name": "stdout",
     "output_type": "stream",
     "text": [
      "Enter the year1990\n",
      "False\n"
     ]
    }
   ],
   "source": [
    "'''We add a Leap Day on February 29, almost every four years. The leap day is an extra, or intercalary day and we add it to the shortest month of the year, February.\n",
    "In the Gregorian calendar three criteria must be taken into account to identify leap years:\n",
    "\n",
    "The year can be evenly divided by 4, is a leap year, unless:\n",
    "The year can be evenly divided by 100, it is NOT a leap year, unless:\n",
    "The year is also evenly divisible by 400. Then it is a leap year.\n",
    "This means that in the Gregorian calendar, the years 2000 and 2400 are leap years, while 1800, 1900, 2100, 2200, 2300 and 2500 are NOT leap years.Source\n",
    "\n",
    "Task\n",
    "You are given the year, and you have to write a function to check if the year is leap or not.\n",
    "\n",
    "Note that you have to complete the function and remaining code is given as template.\n",
    "\n",
    "Input Format\n",
    "\n",
    "Read y, the year that needs to be checked.\n",
    "\n",
    "Constraints\n",
    "\n",
    "\n",
    "Output Format\n",
    "\n",
    "Output is taken care of by the template. Your function must return a boolean value (True/False)\n",
    "\n",
    "Sample Input 0\n",
    "\n",
    "1990\n",
    "Sample Output 0\n",
    "\n",
    "False '''\n",
    "\n",
    "y=int(input(\"Enter the year\"))\n",
    "if(y%400==0):\n",
    "    print(True)\n",
    "elif(y%4==0 and y%100!=0):\n",
    "    print(True)\n",
    "else:\n",
    "    print(False)"
   ]
  },
  {
   "cell_type": "markdown",
   "metadata": {},
   "source": [
    "## Print Function"
   ]
  },
  {
   "cell_type": "code",
   "execution_count": 19,
   "metadata": {},
   "outputs": [
    {
     "name": "stdout",
     "output_type": "stream",
     "text": [
      "3\n",
      "123"
     ]
    }
   ],
   "source": [
    "'''Read an integer N .\n",
    "\n",
    "Without using any string methods, try to print the following:\n",
    "\n",
    "123...N\n",
    "Note that \"....\" represents the values in between.\n",
    "\n",
    "Input Format\n",
    "\n",
    "The first line contains an integer .\n",
    "\n",
    "Output Format\n",
    "\n",
    "Output the answer as explained in the task.\n",
    "\n",
    "Sample Input 0\n",
    "\n",
    "3\n",
    "Sample Output 0\n",
    "\n",
    "123 '''\n",
    "\n",
    "N=int(input())\n",
    "for i in range(1,N+1):\n",
    "    print(i,end='')\n"
   ]
  }
 ],
 "metadata": {
  "kernelspec": {
   "display_name": "Python 3",
   "language": "python",
   "name": "python3"
  },
  "language_info": {
   "codemirror_mode": {
    "name": "ipython",
    "version": 3
   },
   "file_extension": ".py",
   "mimetype": "text/x-python",
   "name": "python",
   "nbconvert_exporter": "python",
   "pygments_lexer": "ipython3",
   "version": "3.7.4"
  }
 },
 "nbformat": 4,
 "nbformat_minor": 2
}
