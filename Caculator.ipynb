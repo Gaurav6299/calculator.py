{
 "cells": [
  {
   "cell_type": "code",
   "execution_count": 1,
   "metadata": {},
   "outputs": [],
   "source": [
    "from tkinter import *\n",
    "\n",
    "def btnClick(numbers):\n",
    "    global operator\n",
    "    operator=operator+str(numbers)\n",
    "    text_Input.set(operator)\n",
    "    \n",
    "def btnClearDisplay():\n",
    "    global operator\n",
    "    opeartor=\"\"\n",
    "    text_Input.set(\"\")\n",
    "    \n",
    "def btnEqualsInput():\n",
    "    global operator\n",
    "    sumup=str(eval(operator))\n",
    "    text_Input.set(sumup)\n",
    "    operator=\"\"\n",
    "    \n",
    "root=Tk()\n",
    "root.title(\"calculator\")\n",
    "operator=\"\"\n",
    "text_Input=StringVar()\n",
    "txtDisplay=Entry(root,font=('arial',20,'bold'), textvariable=text_Input,bd=30,insertwidth=4,bg=\"powder blue\", justify='right').grid(columnspan=5)\n",
    "#theLabel.pack()\n",
    "btn7=Button(root, padx=16,pady=16,bd=8,fg=\"black\",font=('arial',30,'bold'),text=\"7\",bg=\"powder blue\",command=lambda:btnClick(7)).grid(row=1,column=0)\n",
    "btn8=Button(root, padx=16,pady=16,bd=8,fg=\"black\",font=('arial',30,'bold'),text=\"8\",bg=\"powder blue\",command=lambda:btnClick(8)).grid(row=1,column=1)\n",
    "btn9=Button(root,padx=16,pady=16,bd=8,fg=\"black\",font=('arial',30,'bold'),text=\"9\",bg=\"powder blue\",command=lambda:btnClick(9)).grid(row=1,column=2)\n",
    "addition=Button(root,padx=16,pady=16,bd=8,fg=\"black\",font=('arial',30,'bold'),text=\"+\",bg=\"powder blue\",command=lambda:btnClick(\"+\")).grid(row=1,column=3)\n",
    "\n",
    "btn4=Button(root,padx=16,pady=16,bd=8,fg=\"black\",font=('arial',30,'bold'),text=\"4\",bg=\"powder blue\",command=lambda:btnClick(4)).grid(row=2,column=0)\n",
    "btn5=Button(root,padx=16,pady=16,bd=8,fg=\"black\",font=('arial',30,'bold'),text=\"5\",bg=\"powder blue\",command=lambda:btnClick(5)).grid(row=2,column=1)\n",
    "btn6=Button(root,padx=16,pady=16,bd=8,fg=\"black\",font=('arial',30,'bold'),text=\"6\",bg=\"powder blue\",command=lambda:btnClick(6)).grid(row=2,column=2)\n",
    "multiplication=Button(root,padx=16,pady=16,bd=8,fg=\"black\",font=('arial',30,'bold'),text=\"*\",bg=\"powder blue\",command=lambda:btnClick(\"*\")).grid(row=2,column=3)\n",
    "\n",
    "btn1=Button(root,padx=16,pady=16,bd=8,fg=\"black\",font=('arial',30,'bold'),text=\"1\",bg=\"powder blue\",command=lambda:btnClick(1)).grid(row=3,column=0)\n",
    "btn2=Button(root,padx=16,pady=16,bd=8,fg=\"black\",font=('arial',30,'bold'),text=\"2\",bg=\"powder blue\",command=lambda:btnClick(2)).grid(row=3,column=1)\n",
    "btn3=Button(root,padx=16,pady=16,bd=8,fg=\"black\",font=('arial',30,'bold'),text=\"3\",bg=\"powder blue\",command=lambda:btnClick(3)).grid(row=3,column=2)\n",
    "subtraction=Button(root,padx=16,pady=16,bd=8,fg=\"black\",font=('arial',30,'bold'),text=\"-\",bg=\"powder blue\",command=lambda:btnClick(\"-\")).grid(row=3,column=3)\n",
    "\n",
    "btn0=Button(root,padx=16,pady=16,bd=8,fg=\"black\",font=('arial',30,'bold'),text=\"0\",bg=\"powder blue\",command=lambda:btnClick(0)).grid(row=4,column=0)\n",
    "btndot=Button(root,padx=18,pady=16,bd=8,fg=\"black\",font=('arial',30,'bold'),text=\".\",bg=\"powder blue\",command=lambda:btnClick(\".\")).grid(row=4,column=1)\n",
    "equal=Button(root,padx=16,pady=16,bd=8,fg=\"black\",font=('arial',30,'bold'),text=\"=\",bg=\"powder blue\",command=btnEqualsInput).grid(row=4,column=2)\n",
    "division=Button(root,padx=16,pady=16,bd=8,fg=\"black\",font=('arial',30,'bold'),text=\"/\",bg=\"powder blue\",command=lambda:btnClick(\"/\")).grid(row=4,column=3)\n",
    "\n",
    "btnc=Button(root, padx=14,pady=16,bd=8,fg=\"black\",font=('arial',30,'bold'),text=\"c\",bg=\"powder blue\",command=btnClearDisplay).grid(row=5,column=0)\n",
    "btnpersantage=Button(root,padx=14,pady=16,bd=8,fg=\"black\",font=('arial',30,'bold'),text=\"%\",bg=\"powder blue\",command=lambda:btnClick(\"%\")).grid(row=5,column=1)\n",
    "btnpower=Button(root, padx=14,pady=16,bd=8,fg=\"black\",font=('arial',30,'bold'),text=\"^\",bg=\"powder blue\",command=lambda:btnClick(\"^\")).grid(row=5,column=2)\n",
    "btndel=Button(root, padx=14,pady=16,bd=8,fg=\"black\",font=('arial',30,'bold'),text=\"x\",bg=\"powder blue\",command=lambda:btnClick(\"x\")).grid(row=5,column=3)\n",
    "\n",
    "\n",
    "\n",
    "root.mainloop()"
   ]
  },
  {
   "cell_type": "code",
   "execution_count": null,
   "metadata": {},
   "outputs": [],
   "source": []
  }
 ],
 "metadata": {
  "kernelspec": {
   "display_name": "Python 3",
   "language": "python",
   "name": "python3"
  },
  "language_info": {
   "codemirror_mode": {
    "name": "ipython",
    "version": 3
   },
   "file_extension": ".py",
   "mimetype": "text/x-python",
   "name": "python",
   "nbconvert_exporter": "python",
   "pygments_lexer": "ipython3",
   "version": "3.7.4"
  }
 },
 "nbformat": 4,
 "nbformat_minor": 2
}
