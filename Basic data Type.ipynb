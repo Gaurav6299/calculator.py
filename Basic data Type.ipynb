{
 "cells": [
  {
   "cell_type": "code",
   "execution_count": 1,
   "metadata": {},
   "outputs": [
    {
     "name": "stdout",
     "output_type": "stream",
     "text": [
      "1 \n",
      "2\n",
      "1\n",
      "2\n",
      "[[0, 0, 0], [0, 0, 1], [0, 1, 0], [0, 2, 1], [1, 0, 0], [1, 1, 1], [1, 2, 0], [1, 2, 1]]\n"
     ]
    }
   ],
   "source": [
    "'''Let's learn about list comprehensions! You are given three integers X,Y and Z representing the dimensions of a \n",
    "cuboid along with an integer N. You have to print a list of all possible coordinates given by(i,j,k)  on a 3D grid \n",
    "where the sum of i+j+k  is not equal to N. Here,0<=i<=X,0<=j<=Y and 0<=k<=Z. \n",
    "\n",
    "Input Format\n",
    "\n",
    "Four integers X,Y,Z  and N each on four separate lines, respectively.\n",
    "\n",
    "Constraints\n",
    "\n",
    "Print the list in lexicographic increasing order.\n",
    "\n",
    "Sample Input 0\n",
    "\n",
    "1\n",
    "1\n",
    "1\n",
    "2\n",
    "Sample Output 0\n",
    "\n",
    "[[0, 0, 0], [0, 0, 1], [0, 1, 0], [1, 0, 0], [1, 1, 1]]'''\n",
    "\n",
    "x=int(input())\n",
    "y=int(input())\n",
    "z=int(input())\n",
    "N=int(input())\n",
    "print([[a,b,c] for a in range(0,x+1) for b in range(0,y+1) for c in range(0,z+1) if (a+b+c)!=N])"
   ]
  },
  {
   "cell_type": "code",
   "execution_count": 7,
   "metadata": {},
   "outputs": [
    {
     "name": "stdout",
     "output_type": "stream",
     "text": [
      "5\n",
      "2 3 6 6 5\n",
      "5\n"
     ]
    }
   ],
   "source": [
    "'''Given the participants' score sheet for your University Sports Day, you are required to find the runner-up score. You are given  scores. Store them in a list and find the score of the runner-up.\n",
    "\n",
    "Input Format\n",
    "\n",
    "The first line contains n. The second line contains an array A[]  of n integers each separated by a space.\n",
    "\n",
    "Constraints\n",
    "\n",
    "Output Format\n",
    "\n",
    "Print the runner-up score.\n",
    "\n",
    "Sample Input 0\n",
    "\n",
    "5\n",
    "2 3 6 6 5\n",
    "\n",
    "Sample Output 0\n",
    "\n",
    "5'''\n",
    "\n",
    "n=int(input())\n",
    "x=list(map(int,input().split()))\n",
    "a=[]\n",
    "for i in x:\n",
    "    if i not in a:\n",
    "        a.append(i)\n",
    "a.sort()\n",
    "print(a[-2])"
   ]
  },
  {
   "cell_type": "code",
   "execution_count": 2,
   "metadata": {},
   "outputs": [
    {
     "name": "stdout",
     "output_type": "stream",
     "text": [
      "5\n",
      "Harry\n",
      "37.21\n",
      "Berry\n",
      "37.21\n",
      "Tina\n",
      "37.2\n",
      "Akriti\n",
      "41\n",
      "HArsh\n",
      "39\n",
      "Berry\n",
      "Harry\n"
     ]
    }
   ],
   "source": [
    "'''Given the names and grades for each student in a Physics class of N students, store them in a nested list and print the name(s) of any student(s) having the second lowest grade.\n",
    "\n",
    "Note: If there are multiple students with the same grade, order their names alphabetically and print each name on a new line.\n",
    "\n",
    "Input Format\n",
    "\n",
    "The first line contains an integer,N , the number of students.\n",
    "The 2N subsequent lines describe each student over 2 lines; the first line contains a student's name, and the second line contains their grade.\n",
    "\n",
    "Constraints\n",
    "\n",
    "There will always be one or more students having the second lowest grade.\n",
    "Output Format\n",
    "\n",
    "Print the name(s) of any student(s) having the second lowest grade in Physics; if there are multiple students, order their names alphabetically and print each one on a new line.\n",
    "\n",
    "Sample Input 0\n",
    "\n",
    "5\n",
    "Harry\n",
    "37.21\n",
    "Berry\n",
    "37.21\n",
    "Tina\n",
    "37.2\n",
    "Akriti\n",
    "41\n",
    "Harsh\n",
    "39\n",
    "\n",
    "Sample Output 0\n",
    "\n",
    "Berry\n",
    "Harry'''\n",
    "\n",
    "\n",
    "N=int(input())\n",
    "marksOf=[]\n",
    "grade=[]\n",
    "for i in range(N):\n",
    "    name=input()\n",
    "    score=float(input())\n",
    "    marksOf+=[[name,score]]\n",
    "    grade+=[score]\n",
    "x=sorted(set(grade))[1]\n",
    "for n,s in sorted(marksOf):\n",
    "    if s==x:\n",
    "        print(n)\n",
    "    "
   ]
  },
  {
   "cell_type": "code",
   "execution_count": 8,
   "metadata": {},
   "outputs": [
    {
     "name": "stdout",
     "output_type": "stream",
     "text": [
      "2\n",
      "sujit 98 76 75\n",
      "gaurav 98 89 87\n",
      "gaurav\n",
      "91.33\n"
     ]
    }
   ],
   "source": [
    "'''You have a record of N students. Each record contains the student's name, and their percent marks in Maths, Physics and Chemistry. \n",
    "The marks can be floating values. The user enters some integer N followed by the names and marks for N students. You are required to save the record in a dictionary data type. \n",
    "The user then enters a student's name. Output the average percentage marks obtained by that student, correct to two decimal places.\n",
    "\n",
    "Input Format\n",
    "\n",
    "The first line contains the integer N, the number of students. The next N lines contains the name and marks obtained by that student \n",
    "separated by a space. The final line contains the name of a particular student previously listed.\n",
    "\n",
    "Constraints\n",
    "\n",
    "Output Format\n",
    "\n",
    "Print one line: The average of the marks obtained by the particular student correct to 2 decimal places.\n",
    "\n",
    "Sample Input 0\n",
    "\n",
    "3\n",
    "Krishna 67 68 69\n",
    "Arjun 70 98 63\n",
    "Malika 52 56 60\n",
    "Malika\n",
    "Sample Output 0\n",
    "\n",
    "56.00\n",
    "\n",
    "Explanation 0\n",
    "\n",
    "Marks for Malika are{52,56,69}  whose average is (52+56+69)/3=56\n",
    "\n",
    "Sample Input 1\n",
    "\n",
    "2\n",
    "Harsh 25 26.5 28\n",
    "Anurag 26 28 30\n",
    "Harsh\n",
    "Sample Output 1\n",
    "\n",
    "26.50'''\n",
    "\n",
    "\n",
    "N=int(input())\n",
    "student_marks={}\n",
    "for i in range(N):\n",
    "    name,*line=input().split()\n",
    "    score=list(map(float,line))\n",
    "    student_marks[name]=score\n",
    "query_name=input()\n",
    "query_marks=student_marks[query_name]\n",
    "a=sum(query_marks)/len(query_marks)\n",
    "print(\"{0:.2f}\".format(a))"
   ]
  },
  {
   "cell_type": "code",
   "execution_count": 2,
   "metadata": {},
   "outputs": [
    {
     "name": "stdout",
     "output_type": "stream",
     "text": [
      "2\n",
      "1 2\n",
      "3713081631934410656\n"
     ]
    }
   ],
   "source": [
    "'''Given an integer,n , and n space-separated integers as input, create a tuple,t , of those n integers. Then compute and print \n",
    "the result of hash(t).\n",
    "\n",
    "Note: hash() is one of the functions in the __builtins__ module, so it need not be imported.\n",
    "\n",
    "Input Format\n",
    "\n",
    "The first line contains an integer, n, denoting the number of elements in the tuple.\n",
    "The second line contains n space-separated integers describing the elements in tuple t .\n",
    "\n",
    "Output Format\n",
    "\n",
    "Print the result of hash(t).\n",
    "\n",
    "Sample Input 0\n",
    "\n",
    "2\n",
    "1 2\n",
    "Sample Output 0\n",
    "\n",
    "3713081631934410656'''\n",
    "\n",
    "n=int(input())\n",
    "t=map(int,input().split())\n",
    "print(hash(tuple(t)))"
   ]
  }
 ],
 "metadata": {
  "kernelspec": {
   "display_name": "Python 3",
   "language": "python",
   "name": "python3"
  },
  "language_info": {
   "codemirror_mode": {
    "name": "ipython",
    "version": 3
   },
   "file_extension": ".py",
   "mimetype": "text/x-python",
   "name": "python",
   "nbconvert_exporter": "python",
   "pygments_lexer": "ipython3",
   "version": "3.7.4"
  }
 },
 "nbformat": 4,
 "nbformat_minor": 2
}
